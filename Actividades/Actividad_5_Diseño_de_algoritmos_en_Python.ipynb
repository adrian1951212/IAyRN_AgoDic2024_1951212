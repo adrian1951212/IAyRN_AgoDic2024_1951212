{
  "nbformat": 4,
  "nbformat_minor": 0,
  "metadata": {
    "colab": {
      "provenance": []
    },
    "kernelspec": {
      "name": "python3",
      "display_name": "Python 3"
    },
    "language_info": {
      "name": "python"
    }
  },
  "cells": [
    {
      "cell_type": "markdown",
      "source": [
        "**Actividad 5: Diseño de algoritmos en Python**\n",
        "\n",
        "Adrian Moran Alvarez 1951212\n"
      ],
      "metadata": {
        "id": "2N96qjZIiGO7"
      }
    },
    {
      "cell_type": "code",
      "execution_count": null,
      "metadata": {
        "id": "rFUlziMRiFUY",
        "colab": {
          "base_uri": "https://localhost:8080/"
        },
        "outputId": "29a10eb0-a779-4fe0-88e4-111d09af602c"
      },
      "outputs": [
        {
          "output_type": "stream",
          "name": "stdout",
          "text": [
            "¿Cuál es tu nombre? Ana\n",
            "Lo siento, no puedo saludarte.\n"
          ]
        }
      ],
      "source": [
        "# 1. Algoritmo para saludar al usuario excepto si se llama Ana, Juan o Pedro\n",
        "\n",
        "nombre = input(\"¿Cuál es tu nombre? \")\n",
        "\n",
        "if nombre in [\"Ana\", \"Juan\", \"Pedro\"]:\n",
        "    print(\"Lo siento, no puedo saludarte.\")\n",
        "else:\n",
        "    print(f\"Hola, {nombre}!\")\n"
      ]
    },
    {
      "cell_type": "code",
      "source": [
        "# 2. Función para invertir una lista\n",
        "\n",
        "def invertir_lista():\n",
        "    n = int(input(\"¿Cuántos elementos tendrá la lista? \"))\n",
        "    lista = []\n",
        "\n",
        "    for i in range(n):\n",
        "        elemento = input(f\"Introduce el elemento {i + 1}: \")\n",
        "        lista.append(elemento)\n",
        "\n",
        "    lista_invertida = lista[::-1]\n",
        "    print(\"Lista invertida:\", lista_invertida)\n",
        "\n",
        "invertir_lista()\n"
      ],
      "metadata": {
        "colab": {
          "base_uri": "https://localhost:8080/"
        },
        "id": "k5CYKhbhieax",
        "outputId": "b752c5ad-792f-4dc2-ee61-9dc502151d6e"
      },
      "execution_count": 12,
      "outputs": [
        {
          "output_type": "stream",
          "name": "stdout",
          "text": [
            "¿Cuántos elementos tendrá la lista? 5\n",
            "Introduce el elemento 1: 3\n",
            "Introduce el elemento 2: 6\n",
            "Introduce el elemento 3: 2\n",
            "Introduce el elemento 4: 4\n",
            "Introduce el elemento 5: 9\n",
            "Lista invertida: ['9', '4', '2', '6', '3']\n"
          ]
        }
      ]
    },
    {
      "cell_type": "code",
      "source": [
        "# 3. Generar números de la serie de Fibonacci\n",
        "\n",
        "def generar_fibonacci():\n",
        "    n = int(input(\"¿Cuántos números de la serie de Fibonacci deseas generar? \"))\n",
        "    fibonacci = [0, 1]\n",
        "\n",
        "    for i in range(2, n):\n",
        "        siguiente = fibonacci[-1] + fibonacci[-2]\n",
        "        fibonacci.append(siguiente)\n",
        "\n",
        "    print(f\"Serie de Fibonacci ({n} números):\", fibonacci[:n])\n",
        "\n",
        "generar_fibonacci()\n"
      ],
      "metadata": {
        "colab": {
          "base_uri": "https://localhost:8080/"
        },
        "id": "qptr-GW-izrl",
        "outputId": "de975177-e63b-4738-e869-075d724e5ca3"
      },
      "execution_count": 13,
      "outputs": [
        {
          "output_type": "stream",
          "name": "stdout",
          "text": [
            "¿Cuántos números de la serie de Fibonacci deseas generar? 8\n",
            "Serie de Fibonacci (8 números): [0, 1, 1, 2, 3, 5, 8, 13]\n"
          ]
        }
      ]
    },
    {
      "cell_type": "code",
      "source": [
        "}# 4. Juego de adivinar el número\n",
        "\n",
        "import random\n",
        "\n",
        "def adivina_el_numero():\n",
        "    numero_secreto = random.randint(1, 100)\n",
        "    intento = None\n",
        "\n",
        "    while intento != numero_secreto:\n",
        "        intento = int(input(\"Adivina el número (entre 1 y 100): \"))\n",
        "\n",
        "        if intento < numero_secreto:\n",
        "            print(\"El número es mayor.\")\n",
        "        elif intento > numero_secreto:\n",
        "            print(\"El número es menor.\")\n",
        "\n",
        "    print(\"¡Felicidades! Adivinaste el número.\")\n",
        "\n",
        "adivina_el_numero()\n"
      ],
      "metadata": {
        "id": "_fGJFdTQjkFX",
        "colab": {
          "base_uri": "https://localhost:8080/"
        },
        "outputId": "c48ce6a1-3206-49a3-c259-e4e0a899492c"
      },
      "execution_count": 14,
      "outputs": [
        {
          "output_type": "stream",
          "name": "stdout",
          "text": [
            "Adivina el número (entre 1 y 100): 50\n",
            "El número es menor.\n",
            "Adivina el número (entre 1 y 100): 40\n",
            "El número es menor.\n",
            "Adivina el número (entre 1 y 100): 20\n",
            "El número es menor.\n",
            "Adivina el número (entre 1 y 100): 10\n",
            "El número es menor.\n",
            "Adivina el número (entre 1 y 100): 5\n",
            "El número es mayor.\n",
            "Adivina el número (entre 1 y 100): 8\n",
            "El número es menor.\n",
            "Adivina el número (entre 1 y 100): 6\n",
            "El número es mayor.\n",
            "Adivina el número (entre 1 y 100): 7\n",
            "¡Felicidades! Adivinaste el número.\n"
          ]
        }
      ]
    },
    {
      "cell_type": "code",
      "source": [
        "# 5. Números primos en un rango dado\n",
        "\n",
        "def es_primo(numero):\n",
        "    if numero < 2:\n",
        "        return False\n",
        "    for i in range(2, int(numero ** 0.5) + 1):\n",
        "        if numero % i == 0:\n",
        "            return False\n",
        "    return True\n",
        "\n",
        "def primos_en_rango():\n",
        "    inicio = int(input(\"Introduce el inicio del rango: \"))\n",
        "    fin = int(input(\"Introduce el fin del rango: \"))\n",
        "\n",
        "    primos = [numero for numero in range(inicio, fin + 1) if es_primo(numero)]\n",
        "    print(f\"Números primos entre {inicio} y {fin}: {primos}\")\n",
        "\n",
        "primos_en_rango()\n"
      ],
      "metadata": {
        "colab": {
          "base_uri": "https://localhost:8080/"
        },
        "id": "hVfeZ_3gi8q7",
        "outputId": "c7eec2e2-0065-4959-c3d7-8a535ff8745e"
      },
      "execution_count": 15,
      "outputs": [
        {
          "output_type": "stream",
          "name": "stdout",
          "text": [
            "Introduce el inicio del rango: 1\n",
            "Introduce el fin del rango: 15\n",
            "Números primos entre 1 y 15: [2, 3, 5, 7, 11, 13]\n"
          ]
        }
      ]
    },
    {
      "cell_type": "code",
      "source": [
        "# 6. Calculadora básica\n",
        "\n",
        "def suma(a, b):\n",
        "    return a + b\n",
        "\n",
        "def resta(a, b):\n",
        "    return a - b\n",
        "\n",
        "def multiplicacion(a, b):\n",
        "    return a * b\n",
        "\n",
        "def division(a, b):\n",
        "    return a / b if b != 0 else \"Error: División por cero\"\n",
        "\n",
        "def calculadora_basica():\n",
        "    num1 = float(input(\"Introduce el primer número: \"))\n",
        "    num2 = float(input(\"Introduce el segundo número: \"))\n",
        "\n",
        "    print(f\"Suma: {suma(num1, num2)}\")\n",
        "    print(f\"Resta: {resta(num1, num2)}\")\n",
        "    print(f\"Multiplicación: {multiplicacion(num1, num2)}\")\n",
        "    print(f\"División: {division(num1, num2)}\")\n",
        "\n",
        "calculadora_basica()\n"
      ],
      "metadata": {
        "id": "0bkYZ0Y1jr-F",
        "colab": {
          "base_uri": "https://localhost:8080/"
        },
        "outputId": "86524042-991a-43e5-8c43-8e8e5ffdee88"
      },
      "execution_count": 16,
      "outputs": [
        {
          "output_type": "stream",
          "name": "stdout",
          "text": [
            "Introduce el primer número: 8\n",
            "Introduce el segundo número: 5\n",
            "Suma: 13.0\n",
            "Resta: 3.0\n",
            "Multiplicación: 40.0\n",
            "División: 1.6\n"
          ]
        }
      ]
    }
  ]
}