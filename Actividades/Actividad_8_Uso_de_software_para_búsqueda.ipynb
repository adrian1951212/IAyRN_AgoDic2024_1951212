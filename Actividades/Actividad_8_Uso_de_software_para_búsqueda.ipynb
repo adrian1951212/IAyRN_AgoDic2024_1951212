{
  "nbformat": 4,
  "nbformat_minor": 0,
  "metadata": {
    "colab": {
      "provenance": []
    },
    "kernelspec": {
      "name": "python3",
      "display_name": "Python 3"
    },
    "language_info": {
      "name": "python"
    }
  },
  "cells": [
    {
      "cell_type": "markdown",
      "source": [
        "#**Actividad 8: Uso de software para búsqueda**\n",
        "# **ADRIAN MORAN ALVAREZ IMTC N1**"
      ],
      "metadata": {
        "id": "-wv-svrANPnP"
      }
    },
    {
      "cell_type": "markdown",
      "source": [
        "## **1-Cargar librerías**"
      ],
      "metadata": {
        "id": "o4cFpv-koMQj"
      }
    },
    {
      "cell_type": "code",
      "source": [
        "# Cargar librerías\n",
        "import numpy as np\n",
        "import matplotlib.pyplot as plt\n",
        "from tensorflow.keras.datasets import mnist\n",
        "from tensorflow.keras.models import Sequential\n",
        "from tensorflow.keras.layers import Dense, Flatten\n",
        "from tensorflow.keras.utils import to_categorical\n",
        "from tensorflow.keras.optimizers import Adam\n",
        "from sklearn.metrics import accuracy_score\n"
      ],
      "metadata": {
        "id": "RC0ymO0QoKFo"
      },
      "execution_count": 1,
      "outputs": []
    },
    {
      "cell_type": "markdown",
      "source": [
        "## **2-Cargar datos**"
      ],
      "metadata": {
        "id": "PbmjLREBoLeC"
      }
    },
    {
      "cell_type": "code",
      "source": [
        "# Cargar datos\n",
        "(train_data, train_labels), (test_data, test_labels) = mnist.load_data()\n"
      ],
      "metadata": {
        "id": "32IhRFwNoho6",
        "colab": {
          "base_uri": "https://localhost:8080/"
        },
        "outputId": "c1af4065-775c-4e67-f41a-97113e0e5925"
      },
      "execution_count": 2,
      "outputs": [
        {
          "output_type": "stream",
          "name": "stdout",
          "text": [
            "Downloading data from https://storage.googleapis.com/tensorflow/tf-keras-datasets/mnist.npz\n",
            "\u001b[1m11490434/11490434\u001b[0m \u001b[32m━━━━━━━━━━━━━━━━━━━━\u001b[0m\u001b[37m\u001b[0m \u001b[1m0s\u001b[0m 0us/step\n"
          ]
        }
      ]
    },
    {
      "cell_type": "markdown",
      "source": [
        "## **3-Preprocesamiento de datos**"
      ],
      "metadata": {
        "id": "I8c3ZFVAoi9G"
      }
    },
    {
      "cell_type": "code",
      "source": [
        "# Normalizar los datos dividiendo entre 255 (ya que los valores de píxeles están entre 0 y 255)\n",
        "train_data = train_data / 255.0\n",
        "test_data = test_data / 255.0\n",
        "\n",
        "# Convertir las etiquetas a categóricas (one-hot encoding)\n",
        "train_labels = to_categorical(train_labels)\n",
        "test_labels = to_categorical(test_labels)\n"
      ],
      "metadata": {
        "id": "eiUHh_xIom9x"
      },
      "execution_count": 3,
      "outputs": []
    },
    {
      "cell_type": "markdown",
      "source": [
        "## **4-Selección y entrenamiento del modelo**"
      ],
      "metadata": {
        "id": "hvkL62qUoplV"
      }
    },
    {
      "cell_type": "code",
      "source": [
        "# Selección y construcción del modelo\n",
        "model = Sequential([\n",
        "    Flatten(input_shape=(28, 28)),          # Convertir cada imagen de 28x28 a un vector plano\n",
        "    Dense(128, activation='relu'),           # Capa oculta con 128 neuronas y activación ReLU\n",
        "    Dense(64, activation='relu'),            # Otra capa oculta con 64 neuronas y activación ReLU\n",
        "    Dense(10, activation='softmax')          # Capa de salida con 10 neuronas (una para cada dígito) y activación softmax\n",
        "])\n",
        "\n",
        "# Compilar el modelo\n",
        "model.compile(optimizer=Adam(),             # Optimizador Adam\n",
        "              loss='categorical_crossentropy', # Función de pérdida\n",
        "              metrics=['accuracy'])          # Métrica de evaluación\n",
        "\n",
        "# Entrenamiento del modelo\n",
        "history = model.fit(train_data, train_labels, epochs=10, batch_size=32, validation_split=0.2)\n"
      ],
      "metadata": {
        "colab": {
          "base_uri": "https://localhost:8080/"
        },
        "id": "WrK_S1aGos4V",
        "outputId": "a3f9d4a1-5059-4a91-943b-908c75e1c056"
      },
      "execution_count": 4,
      "outputs": [
        {
          "output_type": "stream",
          "name": "stderr",
          "text": [
            "/usr/local/lib/python3.10/dist-packages/keras/src/layers/reshaping/flatten.py:37: UserWarning: Do not pass an `input_shape`/`input_dim` argument to a layer. When using Sequential models, prefer using an `Input(shape)` object as the first layer in the model instead.\n",
            "  super().__init__(**kwargs)\n"
          ]
        },
        {
          "output_type": "stream",
          "name": "stdout",
          "text": [
            "Epoch 1/10\n",
            "\u001b[1m1500/1500\u001b[0m \u001b[32m━━━━━━━━━━━━━━━━━━━━\u001b[0m\u001b[37m\u001b[0m \u001b[1m8s\u001b[0m 4ms/step - accuracy: 0.8634 - loss: 0.4654 - val_accuracy: 0.9613 - val_loss: 0.1334\n",
            "Epoch 2/10\n",
            "\u001b[1m1500/1500\u001b[0m \u001b[32m━━━━━━━━━━━━━━━━━━━━\u001b[0m\u001b[37m\u001b[0m \u001b[1m9s\u001b[0m 4ms/step - accuracy: 0.9661 - loss: 0.1144 - val_accuracy: 0.9640 - val_loss: 0.1161\n",
            "Epoch 3/10\n",
            "\u001b[1m1500/1500\u001b[0m \u001b[32m━━━━━━━━━━━━━━━━━━━━\u001b[0m\u001b[37m\u001b[0m \u001b[1m8s\u001b[0m 5ms/step - accuracy: 0.9774 - loss: 0.0761 - val_accuracy: 0.9699 - val_loss: 0.1005\n",
            "Epoch 4/10\n",
            "\u001b[1m1500/1500\u001b[0m \u001b[32m━━━━━━━━━━━━━━━━━━━━\u001b[0m\u001b[37m\u001b[0m \u001b[1m5s\u001b[0m 4ms/step - accuracy: 0.9834 - loss: 0.0527 - val_accuracy: 0.9710 - val_loss: 0.0967\n",
            "Epoch 5/10\n",
            "\u001b[1m1500/1500\u001b[0m \u001b[32m━━━━━━━━━━━━━━━━━━━━\u001b[0m\u001b[37m\u001b[0m \u001b[1m9s\u001b[0m 6ms/step - accuracy: 0.9873 - loss: 0.0395 - val_accuracy: 0.9692 - val_loss: 0.1055\n",
            "Epoch 6/10\n",
            "\u001b[1m1500/1500\u001b[0m \u001b[32m━━━━━━━━━━━━━━━━━━━━\u001b[0m\u001b[37m\u001b[0m \u001b[1m9s\u001b[0m 6ms/step - accuracy: 0.9898 - loss: 0.0334 - val_accuracy: 0.9714 - val_loss: 0.1045\n",
            "Epoch 7/10\n",
            "\u001b[1m1500/1500\u001b[0m \u001b[32m━━━━━━━━━━━━━━━━━━━━\u001b[0m\u001b[37m\u001b[0m \u001b[1m8s\u001b[0m 5ms/step - accuracy: 0.9911 - loss: 0.0285 - val_accuracy: 0.9745 - val_loss: 0.1042\n",
            "Epoch 8/10\n",
            "\u001b[1m1500/1500\u001b[0m \u001b[32m━━━━━━━━━━━━━━━━━━━━\u001b[0m\u001b[37m\u001b[0m \u001b[1m8s\u001b[0m 5ms/step - accuracy: 0.9925 - loss: 0.0232 - val_accuracy: 0.9758 - val_loss: 0.0991\n",
            "Epoch 9/10\n",
            "\u001b[1m1500/1500\u001b[0m \u001b[32m━━━━━━━━━━━━━━━━━━━━\u001b[0m\u001b[37m\u001b[0m \u001b[1m6s\u001b[0m 4ms/step - accuracy: 0.9932 - loss: 0.0195 - val_accuracy: 0.9779 - val_loss: 0.1022\n",
            "Epoch 10/10\n",
            "\u001b[1m1500/1500\u001b[0m \u001b[32m━━━━━━━━━━━━━━━━━━━━\u001b[0m\u001b[37m\u001b[0m \u001b[1m12s\u001b[0m 5ms/step - accuracy: 0.9951 - loss: 0.0144 - val_accuracy: 0.9777 - val_loss: 0.1026\n"
          ]
        }
      ]
    },
    {
      "cell_type": "markdown",
      "source": [
        "## **5-Prueba del modelo**"
      ],
      "metadata": {
        "id": "kxa2iZ4To2-w"
      }
    },
    {
      "cell_type": "code",
      "source": [
        "# Evaluar el modelo\n",
        "test_loss, test_accuracy = model.evaluate(test_data, test_labels)\n",
        "print(f'\\nExactitud en el conjunto de prueba: {test_accuracy * 100:.2f}%')\n",
        "\n",
        "# Realizar predicciones en 5 ejemplos de prueba\n",
        "predicciones = model.predict(test_data[:5])\n",
        "predicciones = np.argmax(predicciones, axis=1)  # Obtener la predicción de mayor probabilidad\n",
        "etiquetas_reales = np.argmax(test_labels[:5], axis=1)  # Obtener etiquetas reales\n",
        "\n",
        "# Mostrar resultados de predicciones\n",
        "for i in range(5):\n",
        "    plt.imshow(test_data[i], cmap='gray')\n",
        "    plt.title(f'Predicción: {predicciones[i]} - Real: {etiquetas_reales[i]}')\n",
        "    plt.axis('off')\n",
        "    plt.show()\n"
      ],
      "metadata": {
        "colab": {
          "base_uri": "https://localhost:8080/",
          "height": 1000
        },
        "id": "0_iZR2U8o_-n",
        "outputId": "e4efd599-8d65-448a-f908-b986486b472a"
      },
      "execution_count": 5,
      "outputs": [
        {
          "output_type": "stream",
          "name": "stdout",
          "text": [
            "\u001b[1m313/313\u001b[0m \u001b[32m━━━━━━━━━━━━━━━━━━━━\u001b[0m\u001b[37m\u001b[0m \u001b[1m1s\u001b[0m 3ms/step - accuracy: 0.9743 - loss: 0.1051\n",
            "\n",
            "Exactitud en el conjunto de prueba: 97.75%\n",
            "\u001b[1m1/1\u001b[0m \u001b[32m━━━━━━━━━━━━━━━━━━━━\u001b[0m\u001b[37m\u001b[0m \u001b[1m0s\u001b[0m 77ms/step\n"
          ]
        },
        {
          "output_type": "display_data",
          "data": {
            "text/plain": [
              "<Figure size 640x480 with 1 Axes>"
            ],
            "image/png": "[encoded data removed]"
          },
          "metadata": {}
        },
        {
          "output_type": "display_data",
          "data": {
            "text/plain": [
              "<Figure size 640x480 with 1 Axes>"
            ],
            "image/png": "[encoded data removed]"
          },
          "metadata": {}
        },
        {
          "output_type": "display_data",
          "data": {
            "text/plain": [
              "<Figure size 640x480 with 1 Axes>"
            ],
            "image/png": "[encoded data removed]"
          },
          "metadata": {}
        },
        {
          "output_type": "display_data",
          "data": {
            "text/plain": [
              "<Figure size 640x480 with 1 Axes>"
            ],
            "image/png": "[encoded data removed]"
          },
          "metadata": {}
        },
        {
          "output_type": "display_data",
          "data": {
            "text/plain": [
              "<Figure size 640x480 with 1 Axes>"
            ],
            "image/png": "[encoded data removed]"
          },
          "metadata": {}
        }
      ]
    }
  ]
}