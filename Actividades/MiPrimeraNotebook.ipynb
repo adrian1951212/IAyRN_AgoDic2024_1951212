{
  "nbformat": 4,
  "nbformat_minor": 0,
  "metadata": {
    "colab": {
      "provenance": []
    },
    "kernelspec": {
      "name": "python3",
      "display_name": "Python 3"
    },
    "language_info": {
      "name": "python"
    }
  },
  "cells": [
    {
      "cell_type": "markdown",
      "source": [
        "# **Mi primer notebook**\n",
        "\n",
        "En este notebook se incluyen ejemplos sencillos de uso de lenguaje Python.\n"
      ],
      "metadata": {
        "id": "z26xF7ElL97x"
      }
    },
    {
      "cell_type": "code",
      "source": [
        "print(\"Hola mundo !!!!!\")"
      ],
      "metadata": {
        "colab": {
          "base_uri": "https://localhost:8080/"
        },
        "id": "W8YGCtq3MHKI",
        "outputId": "abb07758-e0ad-476c-97fb-cd29b8b2021a"
      },
      "execution_count": 1,
      "outputs": [
        {
          "output_type": "stream",
          "name": "stdout",
          "text": [
            "Hola mundo !!!!!\n"
          ]
        }
      ]
    }
  ]
}